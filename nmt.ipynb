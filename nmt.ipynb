{
 "cells": [
  {
   "cell_type": "markdown",
   "metadata": {},
   "source": [
    "Corpus: Europarl v7 (http://www.statmt.org/wmt13/training-parallel-europarl-v7.tgz)\n",
    "Using:\n",
    "* Python 3.8.3\n",
    "* TensorFlow 2.2.0\n",
    "* SentencePiece 0.1.91"
   ]
  },
  {
   "cell_type": "markdown",
   "metadata": {},
   "source": [
    "Opening the dataset"
   ]
  },
  {
   "cell_type": "code",
   "execution_count": null,
   "metadata": {},
   "outputs": [],
   "source": [
    "def read_dataset(filename):\n",
    "    return\n"
   ]
  },
  {
   "cell_type": "markdown",
   "metadata": {},
   "source": [
    "Tokenizer"
   ]
  },
  {
   "cell_type": "code",
   "execution_count": null,
   "metadata": {},
   "outputs": [],
   "source": [
    "import sentencepiece as sp\n",
    "\n",
    "# English\n",
    "\n",
    "# Training the model for English\n",
    "sp.SentencePieceTrainer.train(\n",
    "    input='en_sp_train_data.txt',\n",
    "    model_prefix='en',\n",
    "    vocab_size=1000,\n",
    ")\n",
    "# Getting the tokenizer object\n",
    "en_sp = sp.SentencePieceProcessor()\n",
    "# Loading the English model\n",
    "en_sp.Load(\"en.model\")\n",
    "\n",
    "# French\n",
    "\n",
    "# Training the model for French\n",
    "sp.SentencePieceTrainer.train(\n",
    "    input='fr_sp_train_data.txt',\n",
    "    model_prefix='fr',\n",
    "    vocab_size=1000,\n",
    ")\n",
    "# Getting the tokenizer object\n",
    "fr_sp = sp.SentencePieceProcessor()\n",
    "# Loading the French model\n",
    "fr_sp.Load(\"fr.model\")"
   ]
  },
  {
   "cell_type": "code",
   "execution_count": null,
   "metadata": {},
   "outputs": [],
   "source": [
    "# Testing the English tokenizer\n",
    "en_test_sentence = \"I like green apples.\"\n",
    "# Encoding pieces\n",
    "print(en_sp.EncodeAsPieces(en_test_sentence))\n",
    "# Encoding pieces as IDs\n",
    "print(en_sp.EncodeAsIds(en_test_sentence))\n",
    "# Decoding encoded IDs\n",
    "print(en_sp.DecodeIds(en_sp.EncodeAsIds(en_test_sentence)))\n",
    "\n",
    "# Testing the French tokenizer\n",
    "fr_test_sentence = \"J'aime les pommes vertes.\"\n",
    "# Encoding pieces\n",
    "print(fr_sp.EncodeAsPieces(fr_test_sentence))\n",
    "# Encoding pieces as IDs\n",
    "print(fr_sp.EncodeAsIds(fr_test_sentence))\n",
    "# Decoding encoded IDs\n",
    "print(fr_sp.DecodeIds(fr_sp.EncodeAsIds(fr_test_sentence)))\n",
    "\n",
    "# Test a mix to see the mess?"
   ]
  }
 ],
 "metadata": {
  "kernelspec": {
   "display_name": "Python 3",
   "language": "python",
   "name": "python3"
  },
  "language_info": {
   "codemirror_mode": {
    "name": "ipython",
    "version": 3
   },
   "file_extension": ".py",
   "mimetype": "text/x-python",
   "name": "python",
   "nbconvert_exporter": "python",
   "pygments_lexer": "ipython3",
   "version": "3.8.3"
  }
 },
 "nbformat": 4,
 "nbformat_minor": 4
}
